{
  "nbformat": 4,
  "nbformat_minor": 0,
  "metadata": {
    "colab": {
      "provenance": [],
      "include_colab_link": true
    },
    "kernelspec": {
      "name": "python3",
      "display_name": "Python 3"
    },
    "language_info": {
      "name": "python"
    }
  },
  "cells": [
    {
      "cell_type": "markdown",
      "metadata": {
        "id": "view-in-github",
        "colab_type": "text"
      },
      "source": [
        "<a href=\"https://colab.research.google.com/github/NuarliArziyev/arithmetic_operators_homework/blob/main/%D0%9A%D0%BE%D0%BF%D0%B8%D1%8F_%D0%B1%D0%BB%D0%BE%D0%BA%D0%BD%D0%BE%D1%82%D0%B0_%22Subplot_NxM_Homework_ipynb%22.ipynb\" target=\"_parent\"><img src=\"https://colab.research.google.com/assets/colab-badge.svg\" alt=\"Open In Colab\"/></a>"
      ]
    },
    {
      "cell_type": "code",
      "execution_count": null,
      "metadata": {
        "id": "WQPiXV8VYTq1"
      },
      "outputs": [],
      "source": [
        "import matplotlib.pyplot as plt"
      ]
    },
    {
      "cell_type": "code",
      "source": [
        "plt.rcParams['xtick.bottom'] = plt.rcParams['xtick.labelbottom'] = False\n",
        "plt.rcParams['xtick.top'] = plt.rcParams['xtick.labeltop'] = False\n",
        "plt.rcParams['ytick.left'] = plt.rcParams['ytick.labelleft'] = False"
      ],
      "metadata": {
        "id": "EQll71PjguLB"
      },
      "execution_count": null,
      "outputs": []
    },
    {
      "cell_type": "code",
      "source": [
        "def subplot_2x3(fig):\n",
        "  \"\"\"\n",
        "  Draw axises two rows and three columns. 2x3\n",
        "  Args:\n",
        "    fig: figure\n",
        "  Returns:\n",
        "    axis: The Axes of the subplot.\n",
        "  \"\"\"\n",
        "  return 0"
      ],
      "metadata": {
        "id": "9b-2EIfNY4ba"
      },
      "execution_count": null,
      "outputs": []
    },
    {
      "cell_type": "code",
      "source": [
        "fig = plt.figure(figsize=(6,4))\n",
        "ax2x3 = subplot_2x3(fig)"
      ],
      "metadata": {
        "colab": {
          "base_uri": "https://localhost:8080/",
          "height": 262
        },
        "id": "ytVZHFc0nHU0",
        "outputId": "82335939-dbd0-4e4b-87c4-94795286f3e9"
      },
      "execution_count": null,
      "outputs": [
        {
          "output_type": "display_data",
          "data": {
            "text/plain": [
              "<Figure size 432x288 with 6 Axes>"
            ],
            "image/png": "[encoded data removed]"
          },
          "metadata": {}
        }
      ]
    },
    {
      "cell_type": "code",
      "source": [
        "def subplot_4x2(fig):\n",
        "  \"\"\"\n",
        "  Draw axises four rows and two columns. 4x2\n",
        "  Args:\n",
        "    fig: figure\n",
        "  Returns:\n",
        "    axis: The Axes of the subplot.\n",
        "  \"\"\"\n",
        "  return 0"
      ],
      "metadata": {
        "id": "8gXDhvcCm8Q1"
      },
      "execution_count": null,
      "outputs": []
    },
    {
      "cell_type": "code",
      "source": [
        "fig = plt.figure(figsize=(4,8))\n",
        "ax4x2 = subplot_4x2(fig)"
      ],
      "metadata": {
        "colab": {
          "base_uri": "https://localhost:8080/",
          "height": 480
        },
        "id": "eUemr9YYnCps",
        "outputId": "a47af039-ab62-47f2-f37a-c375675c9f62"
      },
      "execution_count": null,
      "outputs": [
        {
          "output_type": "display_data",
          "data": {
            "text/plain": [
              "<Figure size 288x576 with 8 Axes>"
            ],
            "image/png": "[encoded data removed]"
          },
          "metadata": {}
        }
      ]
    },
    {
      "cell_type": "code",
      "source": [
        "def subplot_3x5(fig):\n",
        "  \"\"\"\n",
        "  Draw axises three rows and five columns. 3x5\n",
        "  Args:\n",
        "    fig: figure\n",
        "  Returns:\n",
        "    axis: The Axes of the subplot.\n",
        "  \"\"\"\n",
        "  return 0"
      ],
      "metadata": {
        "id": "tk-JcGfCo6I9"
      },
      "execution_count": null,
      "outputs": []
    },
    {
      "cell_type": "code",
      "source": [
        "fig = plt.figure(figsize=(10,6))\n",
        "ax3x5 = subplot_3x5(fig)"
      ],
      "metadata": {
        "colab": {
          "base_uri": "https://localhost:8080/",
          "height": 371
        },
        "id": "XPsnnjuvpEZx",
        "outputId": "5c14cb32-98e3-4fdb-acaf-c2a3e0c4e265"
      },
      "execution_count": null,
      "outputs": [
        {
          "output_type": "display_data",
          "data": {
            "text/plain": [
              "<Figure size 720x432 with 15 Axes>"
            ],
            "image/png": "[encoded data removed]"
          },
          "metadata": {}
        }
      ]
    },
    {
      "cell_type": "code",
      "source": [
        "def subplot_5x5(fig):\n",
        "  \"\"\"\n",
        "  Draw axises two rows and three columns. 5x5\n",
        "  Args:\n",
        "    fig: figure\n",
        "  Returns:\n",
        "    axis: The Axes of the subplot.\n",
        "  \"\"\"\n",
        "  return 0"
      ],
      "metadata": {
        "id": "3vb9YUFcnJrd"
      },
      "execution_count": null,
      "outputs": []
    },
    {
      "cell_type": "code",
      "source": [
        "fig = plt.figure(figsize=(10,10))\n",
        "ax5x5 = subplot_5x5(fig)"
      ],
      "metadata": {
        "colab": {
          "base_uri": "https://localhost:8080/",
          "height": 183
        },
        "id": "xMafTMajnz-l",
        "outputId": "6987cd1f-ff30-4ea4-a020-7e96b5991248"
      },
      "execution_count": 1,
      "outputs": [
        {
          "output_type": "error",
          "ename": "NameError",
          "evalue": "ignored",
          "traceback": [
            "\u001b[0;31m---------------------------------------------------------------------------\u001b[0m",
            "\u001b[0;31mNameError\u001b[0m                                 Traceback (most recent call last)",
            "\u001b[0;32m<ipython-input-1-744535e56d40>\u001b[0m in \u001b[0;36m<module>\u001b[0;34m\u001b[0m\n\u001b[0;32m----> 1\u001b[0;31m \u001b[0mfig\u001b[0m \u001b[0;34m=\u001b[0m \u001b[0mplt\u001b[0m\u001b[0;34m.\u001b[0m\u001b[0mfigure\u001b[0m\u001b[0;34m(\u001b[0m\u001b[0mfigsize\u001b[0m\u001b[0;34m=\u001b[0m\u001b[0;34m(\u001b[0m\u001b[0;36m10\u001b[0m\u001b[0;34m,\u001b[0m\u001b[0;36m10\u001b[0m\u001b[0;34m)\u001b[0m\u001b[0;34m)\u001b[0m\u001b[0;34m\u001b[0m\u001b[0;34m\u001b[0m\u001b[0m\n\u001b[0m\u001b[1;32m      2\u001b[0m \u001b[0max5x5\u001b[0m \u001b[0;34m=\u001b[0m \u001b[0msubplot_5x5\u001b[0m\u001b[0;34m(\u001b[0m\u001b[0mfig\u001b[0m\u001b[0;34m)\u001b[0m\u001b[0;34m\u001b[0m\u001b[0;34m\u001b[0m\u001b[0m\n",
            "\u001b[0;31mNameError\u001b[0m: name 'plt' is not defined"
          ]
        }
      ]
    },
    {
      "cell_type": "code",
      "source": [
        "def subplot_3x1(fig):\n",
        "  \"\"\"\n",
        "  Draw axises two rows and three columns. 3x1\n",
        "  Args:\n",
        "    fig: figure\n",
        "  Returns:\n",
        "    axis: The Axes of the subplot.\n",
        "  \"\"\"\n",
        "  return 0"
      ],
      "metadata": {
        "id": "mhQzcx9en4qd"
      },
      "execution_count": null,
      "outputs": []
    },
    {
      "cell_type": "code",
      "source": [
        "fig = plt.figure(figsize=(2,6))\n",
        "ax3x1 = subplot_3x1(fig)"
      ],
      "metadata": {
        "colab": {
          "base_uri": "https://localhost:8080/",
          "height": 371
        },
        "id": "JUa7vwjEr9F9",
        "outputId": "72380857-bc56-4cd8-fd00-b38579800707"
      },
      "execution_count": null,
      "outputs": [
        {
          "output_type": "display_data",
          "data": {
            "text/plain": [
              "<Figure size 144x432 with 3 Axes>"
            ],
            "image/png": "[encoded data removed]"
          },
          "metadata": {}
        }
      ]
    },
    {
      "cell_type": "code",
      "source": [
        "def subplot_1x3(fig):\n",
        "  \"\"\"\n",
        "  Draw axises twoone row and three columns. 1x3\n",
        "  Args:\n",
        "    fig: figure\n",
        "  Returns:\n",
        "    axis: The Axes of the subplot.\n",
        "  \"\"\"\n",
        "  return 0"
      ],
      "metadata": {
        "id": "PU54444Xr_J1"
      },
      "execution_count": null,
      "outputs": []
    },
    {
      "cell_type": "code",
      "source": [
        "fig = plt.figure(figsize=(6,2))\n",
        "ax3x1 = subplot_1x3(fig)"
      ],
      "metadata": {
        "colab": {
          "base_uri": "https://localhost:8080/",
          "height": 154
        },
        "id": "WKaPkZaosPX9",
        "outputId": "3242f24e-3c02-4945-bf94-f7afa532fdb5"
      },
      "execution_count": null,
      "outputs": [
        {
          "output_type": "display_data",
          "data": {
            "text/plain": [
              "<Figure size 432x144 with 3 Axes>"
            ],
            "image/png": "[encoded data removed]"
          },
          "metadata": {}
        }
      ]
    },
    {
      "cell_type": "code",
      "source": [],
      "metadata": {
        "id": "Ysb3EX8MsUv4"
      },
      "execution_count": null,
      "outputs": []
    }
  ]
}